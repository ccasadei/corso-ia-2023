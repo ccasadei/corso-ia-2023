{
 "cells": [
  {
   "cell_type": "markdown",
   "metadata": {},
   "source": [
    "<a href=\"https://colab.research.google.com/github/ccasadei/corso-ia-2023/blob/master/01_mnist_keras.ipynb\" target=\"_parent\"><img src=\"https://colab.research.google.com/assets/colab-badge.svg\" alt=\"Open In Colab\"/></a>"
   ]
  },
  {
   "cell_type": "markdown",
   "metadata": {
    "id": "YS741CVi31NO"
   },
   "source": [
    "**Author: Cristiano Casadei**\n",
    "\n",
    "Esempio di classificatore di immagini neurale convoluzionale.\n",
    "\n",
    "Il dataset utilizzato è **MNIST**, contenente immagini di cifre decimali scritte a mano.\n",
    "\n",
    "La rete si compone inizialmente di neuroni convoluzionali per poi finire con neuroli standard.\n",
    "<hr>"
   ]
  },
  {
   "cell_type": "code",
   "execution_count": null,
   "metadata": {
    "id": "vIihbSSkxiov"
   },
   "outputs": [],
   "source": [
    "# importo tutte le librerie che utilizzerò\n",
    "import matplotlib.pyplot as plt\n",
    "import numpy as np\n",
    "from tensorflow.keras import Input, Model\n",
    "from tensorflow.keras.datasets import mnist\n",
    "from tensorflow.keras.layers import Dense, Conv2D, MaxPooling2D, Dropout, Flatten\n",
    "from tensorflow.keras.utils import to_categorical\n",
    "from random import randint\n",
    "import seaborn as sns\n",
    "from sklearn.metrics import confusion_matrix\n",
    "from sklearn.metrics import precision_recall_fscore_support"
   ]
  },
  {
   "cell_type": "code",
   "execution_count": null,
   "metadata": {
    "colab": {
     "base_uri": "https://localhost:8080/",
     "height": 320
    },
    "id": "Sg36L9TAxuLR",
    "outputId": "cd1f4fa3-3f9e-439b-85f4-d49b94e24e79"
   },
   "outputs": [
    {
     "name": "stdout",
     "output_type": "stream",
     "text": [
      "Downloading data from https://storage.googleapis.com/tensorflow/tf-keras-datasets/mnist.npz\n",
      "11493376/11490434 [==============================] - 0s 0us/step\n",
      "11501568/11490434 [==============================] - 0s 0us/step\n"
     ]
    },
    {
     "data": {
      "image/png": "[encoded data removed]",
      "text/plain": [
       "<Figure size 432x288 with 4 Axes>"
      ]
     },
     "metadata": {
      "needs_background": "light"
     },
     "output_type": "display_data"
    }
   ],
   "source": [
    "# ottengo il dataset MNIST già suddiviso in dataset X e Y, di addestramento e di validazione\n",
    "(X_train, y_train), (X_validation, y_validation) = mnist.load_data()\n",
    "\n",
    "# visualizzo 4 cifre random\n",
    "for i in range(4):\n",
    "    plt.subplot(2, 2, (i + 1))\n",
    "    # in 'shape[0]' è contenuto il numero di esempi del dataset (in questo caso di addestramento)\n",
    "    plt.imshow(X_train[randint(0, X_train.shape[0])], cmap=plt.get_cmap('gray'))\n",
    "plt.show()"
   ]
  },
  {
   "cell_type": "code",
   "execution_count": null,
   "metadata": {
    "colab": {
     "base_uri": "https://localhost:8080/"
    },
    "id": "3fFzlW0mKDCY",
    "outputId": "125242b2-545a-42c3-8595-2d243bde6f4d"
   },
   "outputs": [
    {
     "data": {
      "text/plain": [
       "(60000, 28, 28)"
      ]
     },
     "execution_count": 4,
     "metadata": {},
     "output_type": "execute_result"
    }
   ],
   "source": [
    "# visualizzo la shape di X_train prima della trasformazione\n",
    "X_train.shape"
   ]
  },
  {
   "cell_type": "code",
   "execution_count": null,
   "metadata": {
    "id": "yENDU1yuxxRg"
   },
   "outputs": [],
   "source": [
    "# gli array di MNIST fornite da Keras hanno queste dimensioni\n",
    "#   (n_esempi, larghezza, altezza)\n",
    "#\n",
    "# la nostra rete invece lavora con array di queste dimensioni\n",
    "#   (n_esempi, larghezza, altezza, n_canali_colore)\n",
    "#\n",
    "# quindi mi basta aggiungere una nuova dimensione agli array\n",
    "X_train = np.expand_dims(X_train, axis=-1).astype('float32')\n",
    "X_validation = np.expand_dims(X_validation, axis=-1).astype('float32')"
   ]
  },
  {
   "cell_type": "code",
   "execution_count": null,
   "metadata": {
    "colab": {
     "base_uri": "https://localhost:8080/"
    },
    "id": "B3TyApU0KICK",
    "outputId": "eb187c84-70df-4fc8-9249-ec482cf51a0a"
   },
   "outputs": [
    {
     "data": {
      "text/plain": [
       "(60000, 28, 28, 1)"
      ]
     },
     "execution_count": 6,
     "metadata": {},
     "output_type": "execute_result"
    }
   ],
   "source": [
    "# visualizzo la shape di X_train dopo la trasformazione\n",
    "X_train.shape"
   ]
  },
  {
   "cell_type": "code",
   "execution_count": null,
   "metadata": {
    "id": "pQDVfVsrx1zk"
   },
   "outputs": [],
   "source": [
    "# normalizzo i valori dei pixel portandoli dal range intero 0-255 al range in virgola mobile 0.0-1.0\n",
    "# visto che sono array numpy, è sufficiente eseguire l'operazione direttamente sull'array\n",
    "X_train = X_train / 255\n",
    "X_validation = X_validation / 255"
   ]
  },
  {
   "cell_type": "code",
   "execution_count": null,
   "metadata": {
    "colab": {
     "base_uri": "https://localhost:8080/"
    },
    "id": "OTRsm0FXKVet",
    "outputId": "e6ac1849-e2f3-4874-ef36-e0d2567454bf"
   },
   "outputs": [
    {
     "data": {
      "text/plain": [
       "array([5, 0, 4, 1, 9, 2, 1, 3, 1, 4], dtype=uint8)"
      ]
     },
     "execution_count": 8,
     "metadata": {},
     "output_type": "execute_result"
    }
   ],
   "source": [
    "# visualizzo il contenuto dei primi 10 elementi di y_train prima della trasformazione\n",
    "y_train[:10]"
   ]
  },
  {
   "cell_type": "code",
   "execution_count": null,
   "metadata": {
    "id": "NZ6HvHFax4Uk"
   },
   "outputs": [],
   "source": [
    "# modifico gli array dei risultati (\"ground truth\") in modo siano in formato 'one hot encode'\n",
    "# quindi i valori interi corrispondenti alla classe della cifra (0, 1, 2, ..., 9) vengono\n",
    "# codificati in stringhe posizionali di 0 ed 1\n",
    "# esempi:\n",
    "#   0 --> 1,0,0,0,0,0,0,0,0,0\n",
    "#   1 --> 0,1,0,0,0,0,0,0,0,0\n",
    "#   2 --> 0,0,1,0,0,0,0,0,0,0\n",
    "#  ....\n",
    "#   9 --> 0,0,0,0,0,0,0,0,0,1\n",
    "# in questo modo è più semplice ottenere un risultato significativo dalla rete neurale, in quanto\n",
    "# ogni cifra posizionale corrisponderà ad un neurone dello strato di output che si attiverà o meno\n",
    "# a seconda del risultato della classificazione della rete neurale\n",
    "# in 'shape[0]' continuerà ad essere contenuto il numero di cifre del dataset\n",
    "# in 'shape[1]' ci sarà invece il numero di cifre posizionali, corrispondente al numero di classi possibili\n",
    "y_train = to_categorical(y_train)\n",
    "y_validation = to_categorical(y_validation)"
   ]
  },
  {
   "cell_type": "code",
   "execution_count": null,
   "metadata": {
    "colab": {
     "base_uri": "https://localhost:8080/"
    },
    "id": "KEoXwpM-Kak3",
    "outputId": "8ab4f778-5e99-4261-dba1-d289b991524e"
   },
   "outputs": [
    {
     "data": {
      "text/plain": [
       "array([[0., 0., 0., 0., 0., 1., 0., 0., 0., 0.],\n",
       "       [1., 0., 0., 0., 0., 0., 0., 0., 0., 0.],\n",
       "       [0., 0., 0., 0., 1., 0., 0., 0., 0., 0.],\n",
       "       [0., 1., 0., 0., 0., 0., 0., 0., 0., 0.],\n",
       "       [0., 0., 0., 0., 0., 0., 0., 0., 0., 1.],\n",
       "       [0., 0., 1., 0., 0., 0., 0., 0., 0., 0.],\n",
       "       [0., 1., 0., 0., 0., 0., 0., 0., 0., 0.],\n",
       "       [0., 0., 0., 1., 0., 0., 0., 0., 0., 0.],\n",
       "       [0., 1., 0., 0., 0., 0., 0., 0., 0., 0.],\n",
       "       [0., 0., 0., 0., 1., 0., 0., 0., 0., 0.]], dtype=float32)"
      ]
     },
     "execution_count": 10,
     "metadata": {},
     "output_type": "execute_result"
    }
   ],
   "source": [
    "# visualizzo il contenuto dei primi 10 elementi di y_train dopo la trasformazione\n",
    "y_train[:10]"
   ]
  },
  {
   "cell_type": "code",
   "execution_count": null,
   "metadata": {
    "colab": {
     "base_uri": "https://localhost:8080/"
    },
    "id": "FNr4FuAhx-Gy",
    "outputId": "497fdaf6-4c9a-424c-c9e0-1a26ad784938"
   },
   "outputs": [
    {
     "name": "stdout",
     "output_type": "stream",
     "text": [
      "Model: \"model\"\n",
      "_________________________________________________________________\n",
      " Layer (type)                Output Shape              Param #   \n",
      "=================================================================\n",
      " input_layer (InputLayer)    [(None, 28, 28, 1)]       0         \n",
      "                                                                 \n",
      " conv_1 (Conv2D)             (None, 24, 24, 16)        416       \n",
      "                                                                 \n",
      " maxpool_1 (MaxPooling2D)    (None, 12, 12, 16)        0         \n",
      "                                                                 \n",
      " conv_2 (Conv2D)             (None, 8, 8, 24)          9624      \n",
      "                                                                 \n",
      " maxpool_2 (MaxPooling2D)    (None, 4, 4, 24)          0         \n",
      "                                                                 \n",
      " flattened (Flatten)         (None, 384)               0         \n",
      "                                                                 \n",
      " dense_layer (Dense)         (None, 32)                12320     \n",
      "                                                                 \n",
      " output_layer (Dense)        (None, 10)                330       \n",
      "                                                                 \n",
      "=================================================================\n",
      "Total params: 22,690\n",
      "Trainable params: 22,690\n",
      "Non-trainable params: 0\n",
      "_________________________________________________________________\n"
     ]
    }
   ],
   "source": [
    "# definisco un modello di rete neurale convoluzionale\n",
    "# come dimensione del layer di ingresso uso quelle del train set (esclusa la dimensione iniziale del numero di cifre del dataset)\n",
    "input_layer = Input(shape=(X_train.shape[1], X_train.shape[2], X_train.shape[3]), name=\"input_layer\")\n",
    "\n",
    "conv_1 = Conv2D(16, (5, 5), strides=1, padding=\"valid\", activation=\"relu\", name=\"conv_1\")(input_layer)\n",
    "maxpool_1 = MaxPooling2D(pool_size=(2, 2), strides=2, padding=\"valid\", name=\"maxpool_1\")(conv_1)\n",
    "\n",
    "conv_2 = Conv2D(24, (5, 5), strides=1, padding=\"valid\", activation=\"relu\", name=\"conv_2\")(maxpool_1)\n",
    "maxpool_2 = MaxPooling2D(pool_size=(2, 2), strides=2, padding=\"valid\", name=\"maxpool_2\")(conv_2)\n",
    "\n",
    "flattened = Flatten(name=\"flattened\")(maxpool_2)\n",
    "\n",
    "dense_layer = Dense(32, activation=\"relu\", name=\"dense_layer\")(flattened)\n",
    "output_layer = Dense(10, activation=\"softmax\", name=\"output_layer\")(dense_layer)\n",
    "\n",
    "model = Model(inputs=[input_layer], outputs=[output_layer])\n",
    "model.summary()"
   ]
  },
  {
   "cell_type": "code",
   "execution_count": null,
   "metadata": {
    "colab": {
     "base_uri": "https://localhost:8080/"
    },
    "id": "zAqA3RaOyA5m",
    "outputId": "4689263d-7064-4ca0-e9df-f5557755dc6f"
   },
   "outputs": [
    {
     "name": "stdout",
     "output_type": "stream",
     "text": [
      "Epoch 1/20\n",
      "1875/1875 [==============================] - 23s 6ms/step - loss: 0.2064 - accuracy: 0.9374 - val_loss: 0.0764 - val_accuracy: 0.9744\n",
      "Epoch 2/20\n",
      "1875/1875 [==============================] - 11s 6ms/step - loss: 0.0636 - accuracy: 0.9804 - val_loss: 0.0434 - val_accuracy: 0.9855\n",
      "Epoch 3/20\n",
      "1875/1875 [==============================] - 11s 6ms/step - loss: 0.0447 - accuracy: 0.9859 - val_loss: 0.0473 - val_accuracy: 0.9844\n",
      "Epoch 4/20\n",
      "1875/1875 [==============================] - 11s 6ms/step - loss: 0.0348 - accuracy: 0.9890 - val_loss: 0.0306 - val_accuracy: 0.9896\n",
      "Epoch 5/20\n",
      "1875/1875 [==============================] - 11s 6ms/step - loss: 0.0285 - accuracy: 0.9911 - val_loss: 0.0322 - val_accuracy: 0.9897\n",
      "Epoch 6/20\n",
      "1875/1875 [==============================] - 11s 6ms/step - loss: 0.0243 - accuracy: 0.9923 - val_loss: 0.0348 - val_accuracy: 0.9894\n",
      "Epoch 7/20\n",
      "1875/1875 [==============================] - 11s 6ms/step - loss: 0.0197 - accuracy: 0.9934 - val_loss: 0.0323 - val_accuracy: 0.9906\n",
      "Epoch 8/20\n",
      "1875/1875 [==============================] - 11s 6ms/step - loss: 0.0163 - accuracy: 0.9946 - val_loss: 0.0321 - val_accuracy: 0.9911\n",
      "Epoch 9/20\n",
      "1875/1875 [==============================] - 11s 6ms/step - loss: 0.0146 - accuracy: 0.9951 - val_loss: 0.0379 - val_accuracy: 0.9898\n",
      "Epoch 10/20\n",
      "1875/1875 [==============================] - 11s 6ms/step - loss: 0.0138 - accuracy: 0.9955 - val_loss: 0.0341 - val_accuracy: 0.9902\n",
      "Epoch 11/20\n",
      "1875/1875 [==============================] - 11s 6ms/step - loss: 0.0094 - accuracy: 0.9968 - val_loss: 0.0364 - val_accuracy: 0.9919\n",
      "Epoch 12/20\n",
      "1875/1875 [==============================] - 11s 6ms/step - loss: 0.0096 - accuracy: 0.9968 - val_loss: 0.0421 - val_accuracy: 0.9897\n",
      "Epoch 13/20\n",
      "1875/1875 [==============================] - 11s 6ms/step - loss: 0.0092 - accuracy: 0.9970 - val_loss: 0.0482 - val_accuracy: 0.9885\n",
      "Epoch 14/20\n",
      "1875/1875 [==============================] - 11s 6ms/step - loss: 0.0083 - accuracy: 0.9970 - val_loss: 0.0489 - val_accuracy: 0.9888\n",
      "Epoch 15/20\n",
      "1875/1875 [==============================] - 11s 6ms/step - loss: 0.0076 - accuracy: 0.9974 - val_loss: 0.0567 - val_accuracy: 0.9887\n",
      "Epoch 16/20\n",
      "1875/1875 [==============================] - 11s 6ms/step - loss: 0.0078 - accuracy: 0.9973 - val_loss: 0.0445 - val_accuracy: 0.9893\n",
      "Epoch 17/20\n",
      "1875/1875 [==============================] - 11s 6ms/step - loss: 0.0067 - accuracy: 0.9979 - val_loss: 0.0691 - val_accuracy: 0.9865\n",
      "Epoch 18/20\n",
      "1875/1875 [==============================] - 11s 6ms/step - loss: 0.0062 - accuracy: 0.9978 - val_loss: 0.0461 - val_accuracy: 0.9902\n",
      "Epoch 19/20\n",
      "1875/1875 [==============================] - 11s 6ms/step - loss: 0.0069 - accuracy: 0.9978 - val_loss: 0.0508 - val_accuracy: 0.9891\n",
      "Epoch 20/20\n",
      "1875/1875 [==============================] - 11s 6ms/step - loss: 0.0052 - accuracy: 0.9983 - val_loss: 0.0480 - val_accuracy: 0.9900\n"
     ]
    }
   ],
   "source": [
    "# compilo il modello indicando che tipo di loss_function devo utilizzare,\n",
    "# il tipo di ottimizzatore e le metriche che voglio vengano calcolate\n",
    "model.compile(loss=\"categorical_crossentropy\",\n",
    "              optimizer=\"adam\",\n",
    "              metrics=[\"accuracy\"])\n",
    "\n",
    "# addestro il modello\n",
    "errors_list = model.fit(X_train, \n",
    "                        y_train,\n",
    "                        validation_data=[X_validation, y_validation],\n",
    "                        epochs=20, \n",
    "                        verbose=1)"
   ]
  },
  {
   "cell_type": "code",
   "execution_count": null,
   "metadata": {
    "colab": {
     "base_uri": "https://localhost:8080/",
     "height": 592
    },
    "id": "nZA72c4XyHu9",
    "outputId": "774772e2-fd78-43d7-8013-46164bff3d1f"
   },
   "outputs": [
    {
     "data": {
      "image/png": "[encoded data removed]",
      "text/plain": [
       "<Figure size 1296x720 with 2 Axes>"
      ]
     },
     "metadata": {
      "needs_background": "light"
     },
     "output_type": "display_data"
    }
   ],
   "source": [
    "# Disegno l'andamento della loss e dell'accuracy sia per i dati di training che di validation\n",
    "fig, ax = plt.subplots(2,1, figsize=(18, 10))\n",
    "ax[0].plot(errors_list.history['loss'], color='b', label=\"Training loss\")\n",
    "ax[0].plot(errors_list.history['val_loss'], color='r', label=\"validation loss\",axes =ax[0])\n",
    "legend = ax[0].legend(loc='best', shadow=True)\n",
    "\n",
    "ax[1].plot(errors_list.history['accuracy'], color='b', label=\"Training accuracy\")\n",
    "ax[1].plot(errors_list.history['val_accuracy'], color='r',label=\"Validation accuracy\")\n",
    "legend = ax[1].legend(loc='best', shadow=True)"
   ]
  },
  {
   "cell_type": "code",
   "execution_count": null,
   "metadata": {
    "colab": {
     "base_uri": "https://localhost:8080/"
    },
    "id": "by6PX5zNyI-U",
    "outputId": "d65140c0-a4bb-490e-f1f1-e00b4f9d6c0d"
   },
   "outputs": [
    {
     "name": "stdout",
     "output_type": "stream",
     "text": [
      "Valuto 10000 immagini di validatione\n",
      "Accuratezza del modello: 99.00%\n"
     ]
    }
   ],
   "source": [
    "# valuto il modello\n",
    "valutazioni = model.evaluate(X_validation, y_validation, verbose=0)\n",
    "print(\"Valuto %d immagini di validatione\" % len(X_validation))\n",
    "print(\"Accuratezza del modello: {:.2f}%\".format(valutazioni[1] * 100))"
   ]
  },
  {
   "cell_type": "code",
   "execution_count": null,
   "metadata": {
    "colab": {
     "base_uri": "https://localhost:8080/"
    },
    "id": "SNo7t9SnLBxb",
    "outputId": "d4d6e979-29d0-4cc3-c41b-69990077352e"
   },
   "outputs": [
    {
     "data": {
      "text/plain": [
       "array([[0., 0., 0., 0., 0., 0., 0., 1., 0., 0.],\n",
       "       [0., 0., 1., 0., 0., 0., 0., 0., 0., 0.],\n",
       "       [0., 1., 0., 0., 0., 0., 0., 0., 0., 0.],\n",
       "       [1., 0., 0., 0., 0., 0., 0., 0., 0., 0.],\n",
       "       [0., 0., 0., 0., 1., 0., 0., 0., 0., 0.],\n",
       "       [0., 1., 0., 0., 0., 0., 0., 0., 0., 0.],\n",
       "       [0., 0., 0., 0., 1., 0., 0., 0., 0., 0.],\n",
       "       [0., 0., 0., 0., 0., 0., 0., 0., 0., 1.],\n",
       "       [0., 0., 0., 0., 0., 1., 0., 0., 0., 0.],\n",
       "       [0., 0., 0., 0., 0., 0., 0., 0., 0., 1.]], dtype=float32)"
      ]
     },
     "execution_count": 15,
     "metadata": {},
     "output_type": "execute_result"
    }
   ],
   "source": [
    "# eseguo la predizione con le immagini di validazione\n",
    "y_pred = model.predict(X_validation) \n",
    "\n",
    "# visualizzo i primi 10 risultati\n",
    "np.set_printoptions(precision=5, suppress=True, linewidth=120)\n",
    "y_pred[:10]"
   ]
  },
  {
   "cell_type": "code",
   "execution_count": null,
   "metadata": {
    "colab": {
     "base_uri": "https://localhost:8080/"
    },
    "id": "2oYlfjuVMdcY",
    "outputId": "4be1fd14-2a6e-4a1b-cba2-508d5c47f32a"
   },
   "outputs": [
    {
     "data": {
      "text/plain": [
       "array([7, 2, 1, 0, 4, 1, 4, 9, 5, 9])"
      ]
     },
     "execution_count": 16,
     "metadata": {},
     "output_type": "execute_result"
    }
   ],
   "source": [
    "# decodifico le predizioni in identificatori di classe, sia per le predizioni che per i validation\n",
    "y_pred = np.argmax(y_pred, 1) \n",
    "y_validation = np.argmax(y_validation, 1) \n",
    "\n",
    "# visualizzo i primi 10 risultati della predizione trasformata\n",
    "y_pred[:10]"
   ]
  },
  {
   "cell_type": "code",
   "execution_count": null,
   "metadata": {
    "colab": {
     "base_uri": "https://localhost:8080/",
     "height": 580
    },
    "id": "Ozsp0PyILGQd",
    "outputId": "7b02514a-fc9d-4794-d3ec-a81b85ac708f"
   },
   "outputs": [
    {
     "data": {
      "image/png": "[encoded data removed]",
      "text/plain": [
       "<Figure size 720x720 with 2 Axes>"
      ]
     },
     "metadata": {
      "needs_background": "light"
     },
     "output_type": "display_data"
    }
   ],
   "source": [
    "# ottengo le predizioni e valuto la matrice di confusione\n",
    "fig = plt.figure(figsize=(10, 10)) \n",
    "\n",
    "# preparo la matrice di confusione\n",
    "mat = confusion_matrix(y_validation, y_pred, normalize='pred') \n",
    "\n",
    "# disegno la matrice di confusione\n",
    "sns.heatmap(mat.T, square=True, annot=True, cbar=True, cmap=\"icefire\")\n",
    "plt.xlabel('Valori predetti')\n",
    "plt.ylabel('Valori attesi');\n",
    "plt.show();"
   ]
  },
  {
   "cell_type": "code",
   "execution_count": null,
   "metadata": {
    "id": "lSLMcFcoNFWC"
   },
   "outputs": [],
   "source": [
    "# calcolo precision, recall, f1-score e support\n",
    "precision, recall, f1, support = precision_recall_fscore_support(y_validation, y_pred)"
   ]
  },
  {
   "cell_type": "code",
   "execution_count": null,
   "metadata": {
    "colab": {
     "base_uri": "https://localhost:8080/"
    },
    "id": "K6IRT4zFNUuK",
    "outputId": "1808072a-1e5c-4206-b01b-74987198e568"
   },
   "outputs": [
    {
     "data": {
      "text/plain": [
       "array([0.98986, 0.99648, 0.99227, 0.99698, 0.99179, 0.97467, 0.99062, 0.98552, 0.9917 , 0.98806])"
      ]
     },
     "execution_count": 21,
     "metadata": {},
     "output_type": "execute_result"
    }
   ],
   "source": [
    "# visualizzo la precision per ogni classe\n",
    "precision"
   ]
  },
  {
   "cell_type": "code",
   "execution_count": null,
   "metadata": {
    "colab": {
     "base_uri": "https://localhost:8080/"
    },
    "id": "VX8lV8KENV2M",
    "outputId": "0334d1f2-50df-4a34-e0c4-07fcde4b3868"
   },
   "outputs": [
    {
     "data": {
      "text/plain": [
       "array([0.99592, 0.99824, 0.99516, 0.98218, 0.98473, 0.99215, 0.99165, 0.99319, 0.98152, 0.98414])"
      ]
     },
     "execution_count": 23,
     "metadata": {},
     "output_type": "execute_result"
    }
   ],
   "source": [
    "# visualizzo la recall per ogni classe\n",
    "recall"
   ]
  },
  {
   "cell_type": "code",
   "execution_count": null,
   "metadata": {
    "colab": {
     "base_uri": "https://localhost:8080/"
    },
    "id": "ac1qLoTP2G_3",
    "outputId": "67e1761e-8c78-478d-82a3-83db6476b5fe"
   },
   "outputs": [
    {
     "data": {
      "text/plain": [
       "array([0.99288, 0.99736, 0.99371, 0.98953, 0.98825, 0.98333, 0.99113, 0.98934, 0.98658, 0.9861 ])"
      ]
     },
     "execution_count": 22,
     "metadata": {},
     "output_type": "execute_result"
    }
   ],
   "source": [
    "# visualizzo l'f1-score per ogni classe\n",
    "f1"
   ]
  },
  {
   "cell_type": "code",
   "execution_count": null,
   "metadata": {
    "colab": {
     "base_uri": "https://localhost:8080/"
    },
    "id": "SRIiYPU72H6F",
    "outputId": "02b4aced-6530-467a-a1d6-10d1b3058425"
   },
   "outputs": [
    {
     "data": {
      "text/plain": [
       "array([ 980, 1135, 1032, 1010,  982,  892,  958, 1028,  974, 1009])"
      ]
     },
     "execution_count": 24,
     "metadata": {},
     "output_type": "execute_result"
    }
   ],
   "source": [
    "# support rappresenta il numero di esempi di quella particolare classe contenuti negli output attesi (in questo caso y_validation)\n",
    "support"
   ]
  }
 ],
 "metadata": {
  "accelerator": "GPU",
  "colab": {
   "provenance": []
  },
  "kernelspec": {
   "display_name": "Python 3 (ipykernel)",
   "language": "python",
   "name": "python3"
  },
  "language_info": {
   "codemirror_mode": {
    "name": "ipython",
    "version": 3
   },
   "file_extension": ".py",
   "mimetype": "text/x-python",
   "name": "python",
   "nbconvert_exporter": "python",
   "pygments_lexer": "ipython3",
   "version": "3.9.7"
  }
 },
 "nbformat": 4,
 "nbformat_minor": 4
}
